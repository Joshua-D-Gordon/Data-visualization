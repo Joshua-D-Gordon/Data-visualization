{
 "cells": [
  {
   "cell_type": "code",
   "execution_count": null,
   "id": "1305d861",
   "metadata": {},
   "outputs": [],
   "source": [
    "# Fashion-mnsit\n",
    "\n",
    "##### Import pandas , numpy and matplot\n",
    "### load data in to pandas dataframe\n",
    "#### evaluate first five rows of data"
   ]
  },
  {
   "cell_type": "code",
   "execution_count": null,
   "id": "ab84ae09",
   "metadata": {},
   "outputs": [],
   "source": [
    "import pandas as pd\n",
    "import numpy as np\n",
    "import matplotlib.pyplot as plt\n",
    "\n",
    "df = pd.read_csv(r'C:\\Users\\Joshua Student\\Downloads\\archive (3)\\fashion-mnist_train.csv')\n",
    "\n",
    "df.head()"
   ]
  },
  {
   "cell_type": "code",
   "execution_count": null,
   "id": "51e9ff31",
   "metadata": {},
   "outputs": [],
   "source": [
    "### Split data in to two data frames:\n",
    "### labels and features"
   ]
  },
  {
   "cell_type": "code",
   "execution_count": null,
   "id": "b27c03b3",
   "metadata": {},
   "outputs": [],
   "source": [
    "df_labels = df.iloc[:, 0:1]\n",
    "df_features = df.iloc[:, 1:]\n",
    "df_features"
   ]
  },
  {
   "cell_type": "code",
   "execution_count": null,
   "id": "e6a1ddba",
   "metadata": {},
   "outputs": [],
   "source": [
    "df_labels"
   ]
  },
  {
   "cell_type": "code",
   "execution_count": null,
   "id": "03bdf85d",
   "metadata": {},
   "outputs": [],
   "source": [
    "w = 10\n",
    "h = 10\n",
    "fig = plt.figure(figsize=(8, 8))\n",
    "columns = 5\n",
    "rows = 3\n",
    "for i in range(1, columns*rows +1):\n",
    "    img = df_features.values[i].reshape(28,28)\n",
    "    fig.add_subplot(rows, columns, i)\n",
    "    plt.imshow(img)\n",
    "plt.show()"
   ]
  },
  {
   "cell_type": "code",
   "execution_count": null,
   "id": "de369a07",
   "metadata": {},
   "outputs": [],
   "source": [
    "X=df.iloc[:,1:].values\n",
    "\n",
    "y=df.iloc[:,0].values"
   ]
  },
  {
   "cell_type": "code",
   "execution_count": null,
   "id": "b87ab636",
   "metadata": {},
   "outputs": [],
   "source": [
    "from sklearn.model_selection import train_test_split\n",
    "\n",
    "X_train,X_test,y_train,y_test=train_test_split(X,y,test_size=0.2)\n",
    "\n",
    "from sklearn.neighbors import KNeighborsClassifier\n",
    "\n",
    "knn_clf_before= KNeighborsClassifier(n_neighbors=5)\n",
    "\n",
    "knn_clf_before.fit(X_train,y_train)\n"
   ]
  },
  {
   "cell_type": "code",
   "execution_count": null,
   "id": "223755fa",
   "metadata": {},
   "outputs": [],
   "source": [
    "### Normalize data in features for better results"
   ]
  },
  {
   "cell_type": "code",
   "execution_count": null,
   "id": "8177ce5c",
   "metadata": {},
   "outputs": [],
   "source": [
    "from sklearn.preprocessing import MinMaxScaler\n",
    "scaler = MinMaxScaler()\n",
    "\n",
    "df_norm = pd.DataFrame(scaler.fit_transform(df_features), columns=df_features.columns)\n",
    "\n",
    "df_norm"
   ]
  },
  {
   "cell_type": "code",
   "execution_count": null,
   "id": "0fbb6058",
   "metadata": {},
   "outputs": [],
   "source": [
    "### Perform PCA to reduce dimentions"
   ]
  },
  {
   "cell_type": "code",
   "execution_count": null,
   "id": "bf7023c5",
   "metadata": {},
   "outputs": [],
   "source": [
    "from sklearn.decomposition import PCA\n",
    "\n",
    "pca = PCA(n_components = 0.95)\n",
    "pca.fit(df_norm)\n",
    "reduced = pd.DataFrame(pca.transform(df_norm))\n",
    "\n",
    "percent_of_varaints_to_n = reduced.shape[1]\n",
    "percent_of_varaints_to_n"
   ]
  },
  {
   "cell_type": "code",
   "execution_count": null,
   "id": "81e897e2",
   "metadata": {},
   "outputs": [],
   "source": [
    "print(df_norm.shape)\n",
    "print(reduced.shape)"
   ]
  },
  {
   "cell_type": "code",
   "execution_count": null,
   "id": "154d54e5",
   "metadata": {},
   "outputs": [],
   "source": [
    "x_axis = pca.explained_variance_ratio_\n",
    "x_ = x_axis.tolist()[:10]\n",
    "lst = []\n",
    "for i in range(1,11):\n",
    "    lst.append('PC'+ str(i) )\n",
    "fig = plt.figure(figsize = (15, 5))\n",
    "plt.bar(lst, x_,width = 0.4 )\n",
    "plt.xlabel(\"PCA's\")\n",
    "plt.ylabel(\"Variance Explained\")\n",
    "plt.title(\"top 10 PC's as a function of variance explained\")\n",
    "plt.show()"
   ]
  },
  {
   "cell_type": "code",
   "execution_count": null,
   "id": "7d454b8b",
   "metadata": {},
   "outputs": [],
   "source": [
    "X = reduced\n",
    "y = df_labels"
   ]
  },
  {
   "cell_type": "code",
   "execution_count": null,
   "id": "d69ed7da",
   "metadata": {},
   "outputs": [],
   "source": [
    "from sklearn.naive_bayes import GaussianNB\n",
    "from sklearn import metrics\n",
    "\n",
    "gnb = GaussianNB()\n",
    "gnb.fit(X, y.values.ravel())"
   ]
  },
  {
   "cell_type": "code",
   "execution_count": null,
   "id": "648ca05a",
   "metadata": {},
   "outputs": [],
   "source": [
    "from sklearn.tree import DecisionTreeClassifier\n",
    "dt_clf = DecisionTreeClassifier(random_state=1)\n",
    "dt_clf.fit(X, y)"
   ]
  },
  {
   "cell_type": "code",
   "execution_count": null,
   "id": "48fe9afe",
   "metadata": {},
   "outputs": [],
   "source": []
  },
  {
   "cell_type": "code",
   "execution_count": null,
   "id": "7db1f0a1",
   "metadata": {},
   "outputs": [],
   "source": []
  },
  {
   "cell_type": "code",
   "execution_count": null,
   "id": "41187f34",
   "metadata": {},
   "outputs": [],
   "source": []
  },
  {
   "cell_type": "code",
   "execution_count": null,
   "id": "13de4126",
   "metadata": {},
   "outputs": [],
   "source": []
  }
 ],
 "metadata": {
  "kernelspec": {
   "display_name": "Python 3 (ipykernel)",
   "language": "python",
   "name": "python3"
  },
  "language_info": {
   "codemirror_mode": {
    "name": "ipython",
    "version": 3
   },
   "file_extension": ".py",
   "mimetype": "text/x-python",
   "name": "python",
   "nbconvert_exporter": "python",
   "pygments_lexer": "ipython3",
   "version": "3.9.6"
  }
 },
 "nbformat": 4,
 "nbformat_minor": 5
}
